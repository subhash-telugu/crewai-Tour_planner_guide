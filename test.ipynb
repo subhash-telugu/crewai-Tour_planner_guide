{
 "cells": [
  {
   "cell_type": "code",
   "execution_count": 42,
   "id": "dbc1284b",
   "metadata": {},
   "outputs": [
    {
     "name": "stderr",
     "output_type": "stream",
     "text": [
      "c:\\Users\\subha\\OneDrive\\Projects\\crewAI_projects\\tour_planner\\.venv\\Lib\\site-packages\\torch\\_ops.py:1045: RuntimeWarning: coroutine 'Flow.kickoff.<locals>.run_flow' was never awaited\n",
      "  return any(isinstance(arg.type, torch.ClassType) for arg in schema.arguments)\n",
      "RuntimeWarning: Enable tracemalloc to get the object allocation traceback\n"
     ]
    }
   ],
   "source": [
    "import outlines"
   ]
  },
  {
   "cell_type": "code",
   "execution_count": 43,
   "id": "048e9996",
   "metadata": {},
   "outputs": [],
   "source": [
    "import outlines.models\n"
   ]
  },
  {
   "cell_type": "code",
   "execution_count": 1,
   "id": "c3b7d026",
   "metadata": {},
   "outputs": [],
   "source": [
    "from langchain_groq import ChatGroq\n",
    "\n",
    "from langchain_groq import ChatGroq\n",
    "import os\n",
    "from dotenv import load_dotenv\n",
    "load_dotenv()\n",
    "\n",
    "\n",
    "os.environ['GROQ_API_KEY']=os.getenv('GROQ_API_KEY')\n",
    "llm=ChatGroq(model='gemma2-9b-it')\n",
    "\n",
    "def multiply(a: int, b: int) -> int:\n",
    "    \"\"\"Multiply a and b.\n",
    "\n",
    "    Args:\n",
    "        a: first int\n",
    "        b: second int\n",
    "    \"\"\"\n",
    "    return a * b\n",
    "\n",
    "def add(a: int, b: int) -> int:\n",
    "    \"\"\"Multiply a and b.\n",
    "\n",
    "    Args:\n",
    "        a: first int\n",
    "        b: second int\n",
    "    \"\"\"\n",
    "    return a * b\n",
    "\n",
    "tools=[multiply,add]\n",
    "my_tools=llm.bind_tools(tools)"
   ]
  },
  {
   "cell_type": "code",
   "execution_count": 2,
   "id": "f9157e94",
   "metadata": {},
   "outputs": [
    {
     "data": {
      "text/plain": [
       "AIMessage(content='', additional_kwargs={'tool_calls': [{'id': 'call_neqm', 'function': {'arguments': '{\"a\":2,\"b\":3}', 'name': 'add'}, 'type': 'function'}]}, response_metadata={'token_usage': {'completion_tokens': 87, 'prompt_tokens': 1119, 'total_tokens': 1206, 'completion_time': 0.158181818, 'prompt_time': 0.039161274, 'queue_time': 0.24813024600000003, 'total_time': 0.197343092}, 'model_name': 'gemma2-9b-it', 'system_fingerprint': 'fp_10c08bf97d', 'finish_reason': 'tool_calls', 'logprobs': None}, id='run--63f09ee3-e3f1-4cdd-a4bb-5e0e951f2522-0', tool_calls=[{'name': 'add', 'args': {'a': 2, 'b': 3}, 'id': 'call_neqm', 'type': 'tool_call'}], usage_metadata={'input_tokens': 1119, 'output_tokens': 87, 'total_tokens': 1206})"
      ]
     },
     "execution_count": 2,
     "metadata": {},
     "output_type": "execute_result"
    }
   ],
   "source": [
    "my_tools.invoke(\"add 2 and 3\")"
   ]
  },
  {
   "cell_type": "code",
   "execution_count": null,
   "id": "19b508fc",
   "metadata": {},
   "outputs": [],
   "source": []
  }
 ],
 "metadata": {
  "kernelspec": {
   "display_name": "tour_planner",
   "language": "python",
   "name": "python3"
  },
  "language_info": {
   "codemirror_mode": {
    "name": "ipython",
    "version": 3
   },
   "file_extension": ".py",
   "mimetype": "text/x-python",
   "name": "python",
   "nbconvert_exporter": "python",
   "pygments_lexer": "ipython3",
   "version": "3.12.9"
  }
 },
 "nbformat": 4,
 "nbformat_minor": 5
}
